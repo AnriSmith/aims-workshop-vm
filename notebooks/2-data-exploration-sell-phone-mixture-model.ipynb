{
 "cells": [
  {
   "cell_type": "markdown",
   "metadata": {},
   "source": [
    "## Unsupervised Learning Eploration with the Sell your Phone dataset \n",
    "\n",
    "*get it? CellPhone!!!!*\n",
    "\n",
    "By. Dr. Vukosi Marivate http://www.vima.co.za\n",
    "\n",
    "This notebook takes data from a crowdsourced phone datataset. You can see the original google form here http://bitly.com/phonepricedata\n",
    "\n",
    "Some preprocessing has been done in Google spreadsheets. Namely standardizing all the Brands of the phones. In this notebook I do not remove outliers. I do remove submissions without all of the information (you could resolve this with data imputation).\n",
    "\n",
    "**Acknowledgements:** Jessica Nemasisi - Jessica helped with collection of the data and some initial analysis as part of ther Honours Degree Work. "
   ]
  },
  {
   "cell_type": "code",
   "execution_count": 1,
   "metadata": {
    "collapsed": true
   },
   "outputs": [],
   "source": [
    "import pandas as pd"
   ]
  },
  {
   "cell_type": "code",
   "execution_count": 2,
   "metadata": {},
   "outputs": [
    {
     "name": "stdout",
     "output_type": "stream",
     "text": [
      "Populating the interactive namespace from numpy and matplotlib\n"
     ]
    }
   ],
   "source": [
    "%pylab inline"
   ]
  },
  {
   "cell_type": "code",
   "execution_count": 42,
   "metadata": {},
   "outputs": [
    {
     "data": {
      "text/plain": [
       "Index([u'Age', u'Buying_Price', u'Camera', u'Battery', u'Screen_Size',\n",
       "       u'Condition', u'Proposed_Sell_Price',\n",
       "       u'Internal Storage Size in Gigabytes (GB)', u'Broken_Screen_No',\n",
       "       u'Broken_Screen_Yes'],\n",
       "      dtype='object')"
      ]
     },
     "execution_count": 42,
     "metadata": {},
     "output_type": "execute_result"
    }
   ],
   "source": [
    "df = pd.read_excel(\"../data/sell_your_phone.xlsx\")\n",
    "df = df.dropna()\n",
    "df = df.drop(['Timestamp'],axis=1)\n",
    "brands = df.Brand.values\n",
    "df = df.drop(['Brand'],axis=1)\n",
    "\n",
    "#One Hot Encoding\n",
    "cat_cols = [\"Broken_Screen\"]\n",
    "df_continuous = pd.get_dummies(df,columns=cat_cols)\n",
    "df_continuous.columns"
   ]
  },
  {
   "cell_type": "code",
   "execution_count": 43,
   "metadata": {
    "collapsed": true
   },
   "outputs": [],
   "source": [
    "#Some default stuff for my plotting\n",
    "aspect_mult = 0.9\n",
    "figsize(aspect_mult*16,aspect_mult*9)\n",
    "linewidth = 3"
   ]
  },
  {
   "cell_type": "code",
   "execution_count": 44,
   "metadata": {},
   "outputs": [
    {
     "data": {
      "text/html": [
       "<div>\n",
       "<table border=\"1\" class=\"dataframe\">\n",
       "  <thead>\n",
       "    <tr style=\"text-align: right;\">\n",
       "      <th></th>\n",
       "      <th>Age</th>\n",
       "      <th>Buying_Price</th>\n",
       "      <th>Camera</th>\n",
       "      <th>Battery</th>\n",
       "      <th>Screen_Size</th>\n",
       "      <th>Condition</th>\n",
       "      <th>Proposed_Sell_Price</th>\n",
       "      <th>Internal Storage Size in Gigabytes (GB)</th>\n",
       "      <th>Broken_Screen_No</th>\n",
       "      <th>Broken_Screen_Yes</th>\n",
       "    </tr>\n",
       "  </thead>\n",
       "  <tbody>\n",
       "    <tr>\n",
       "      <th>0</th>\n",
       "      <td>8</td>\n",
       "      <td>160</td>\n",
       "      <td>5.0</td>\n",
       "      <td>24</td>\n",
       "      <td>4.5</td>\n",
       "      <td>7</td>\n",
       "      <td>2000.0</td>\n",
       "      <td>8.0</td>\n",
       "      <td>1</td>\n",
       "      <td>0</td>\n",
       "    </tr>\n",
       "    <tr>\n",
       "      <th>1</th>\n",
       "      <td>19</td>\n",
       "      <td>207</td>\n",
       "      <td>4.0</td>\n",
       "      <td>12</td>\n",
       "      <td>3.5</td>\n",
       "      <td>8</td>\n",
       "      <td>3000.0</td>\n",
       "      <td>5.0</td>\n",
       "      <td>1</td>\n",
       "      <td>0</td>\n",
       "    </tr>\n",
       "    <tr>\n",
       "      <th>2</th>\n",
       "      <td>9</td>\n",
       "      <td>250</td>\n",
       "      <td>2.0</td>\n",
       "      <td>4</td>\n",
       "      <td>3.5</td>\n",
       "      <td>5</td>\n",
       "      <td>200.0</td>\n",
       "      <td>2.0</td>\n",
       "      <td>1</td>\n",
       "      <td>0</td>\n",
       "    </tr>\n",
       "    <tr>\n",
       "      <th>3</th>\n",
       "      <td>19</td>\n",
       "      <td>650</td>\n",
       "      <td>2.0</td>\n",
       "      <td>14</td>\n",
       "      <td>3.5</td>\n",
       "      <td>9</td>\n",
       "      <td>400.0</td>\n",
       "      <td>1.0</td>\n",
       "      <td>1</td>\n",
       "      <td>0</td>\n",
       "    </tr>\n",
       "    <tr>\n",
       "      <th>4</th>\n",
       "      <td>13</td>\n",
       "      <td>699</td>\n",
       "      <td>2.0</td>\n",
       "      <td>10</td>\n",
       "      <td>3.2</td>\n",
       "      <td>7</td>\n",
       "      <td>450.0</td>\n",
       "      <td>4.0</td>\n",
       "      <td>1</td>\n",
       "      <td>0</td>\n",
       "    </tr>\n",
       "  </tbody>\n",
       "</table>\n",
       "</div>"
      ],
      "text/plain": [
       "   Age  Buying_Price  Camera  Battery  Screen_Size  Condition  \\\n",
       "0    8           160     5.0       24          4.5          7   \n",
       "1   19           207     4.0       12          3.5          8   \n",
       "2    9           250     2.0        4          3.5          5   \n",
       "3   19           650     2.0       14          3.5          9   \n",
       "4   13           699     2.0       10          3.2          7   \n",
       "\n",
       "   Proposed_Sell_Price  Internal Storage Size in Gigabytes (GB)  \\\n",
       "0               2000.0                                      8.0   \n",
       "1               3000.0                                      5.0   \n",
       "2                200.0                                      2.0   \n",
       "3                400.0                                      1.0   \n",
       "4                450.0                                      4.0   \n",
       "\n",
       "   Broken_Screen_No  Broken_Screen_Yes  \n",
       "0                 1                  0  \n",
       "1                 1                  0  \n",
       "2                 1                  0  \n",
       "3                 1                  0  \n",
       "4                 1                  0  "
      ]
     },
     "execution_count": 44,
     "metadata": {},
     "output_type": "execute_result"
    }
   ],
   "source": [
    "df_continuous.head()"
   ]
  },
  {
   "cell_type": "code",
   "execution_count": 45,
   "metadata": {
    "collapsed": true
   },
   "outputs": [],
   "source": [
    "df_continuous_normed = (df_continuous - df_continuous.mean()) / df_continuous.std()"
   ]
  },
  {
   "cell_type": "markdown",
   "metadata": {},
   "source": [
    "## Mixture Models"
   ]
  },
  {
   "cell_type": "code",
   "execution_count": 46,
   "metadata": {
    "collapsed": true
   },
   "outputs": [],
   "source": [
    "from sklearn import mixture\n",
    "from sklearn.manifold import TSNE"
   ]
  },
  {
   "cell_type": "code",
   "execution_count": 47,
   "metadata": {
    "collapsed": true
   },
   "outputs": [],
   "source": [
    "X = df_continuous_normed.values\n",
    "reps = 3"
   ]
  },
  {
   "cell_type": "code",
   "execution_count": 48,
   "metadata": {
    "collapsed": true
   },
   "outputs": [],
   "source": [
    "tsne = TSNE(n_components=2)\n",
    "X_tsne = tsne.fit_transform(X)"
   ]
  },
  {
   "cell_type": "code",
   "execution_count": 49,
   "metadata": {},
   "outputs": [],
   "source": [
    "log_likelihood = []\n",
    "x_range = range(2,41)\n",
    "for k in x_range:\n",
    "    temp_wc = []\n",
    "    for i in range(reps):\n",
    "        clf = mixture.GaussianMixture(n_components=k, covariance_type='diag')\n",
    "        clf.fit(X)\n",
    "        temp_wc.append(clf.lower_bound_)\n",
    "    log_likelihood.append(temp_wc)\n",
    "log_likelihood= np.array(log_likelihood)"
   ]
  },
  {
   "cell_type": "code",
   "execution_count": 50,
   "metadata": {},
   "outputs": [
    {
     "data": {
      "image/png": "[encoded data removed]",
      "text/plain": [
       "<matplotlib.figure.Figure at 0x11c69efd0>"
      ]
     },
     "metadata": {},
     "output_type": "display_data"
    }
   ],
   "source": [
    "pyplot.errorbar(x_range,np.mean(log_likelihood,axis=1),\n",
    "                yerr = np.std(log_likelihood,axis=1), linewidth=linewidth)\n",
    "plt.ylabel(\"Max Log Likelihood\")\n",
    "plt.xlabel(\"$k$\")\n",
    "plt.grid()"
   ]
  },
  {
   "cell_type": "code",
   "execution_count": 51,
   "metadata": {},
   "outputs": [
    {
     "data": {
      "text/plain": [
       "GaussianMixture(covariance_type='diag', init_params='kmeans', max_iter=100,\n",
       "        means_init=None, n_components=20, n_init=1, precisions_init=None,\n",
       "        random_state=None, reg_covar=1e-06, tol=0.001, verbose=0,\n",
       "        verbose_interval=10, warm_start=False, weights_init=None)"
      ]
     },
     "execution_count": 51,
     "metadata": {},
     "output_type": "execute_result"
    }
   ],
   "source": [
    "k=20\n",
    "clf = mixture.GaussianMixture(n_components=k, covariance_type='diag')\n",
    "clf.fit(X)"
   ]
  },
  {
   "cell_type": "code",
   "execution_count": 52,
   "metadata": {
    "collapsed": true
   },
   "outputs": [],
   "source": [
    "cluster_labels = clf.predict(X)"
   ]
  },
  {
   "cell_type": "code",
   "execution_count": 53,
   "metadata": {},
   "outputs": [
    {
     "data": {
      "image/png": "[encoded data removed]",
      "text/plain": [
       "<matplotlib.figure.Figure at 0x11c1bf3d0>"
      ]
     },
     "metadata": {},
     "output_type": "display_data"
    }
   ],
   "source": [
    "plt.scatter(X_tsne[:,0],X_tsne[:,1], c=cluster_labels,\n",
    "            s=30,label=cluster_labels)\n",
    "plt.title(\"K-Means Clustering $k$=\" + str(k)+ \" Scatter: Storage Size (GB) vs Original Buying Price\")\n",
    "plt.xlabel(\"Component 1\")\n",
    "plt.ylabel(\"Component 0\")\n",
    "plt.grid()"
   ]
  },
  {
   "cell_type": "code",
   "execution_count": 61,
   "metadata": {},
   "outputs": [
    {
     "data": {
      "text/plain": [
       "array([ 0.20878845,  0.09335143,  0.00869565,  0.00869565,  0.05217328,\n",
       "        0.16523322,  0.0260375 ,  0.00869565,  0.03478263,  0.04347824,\n",
       "        0.04347891,  0.02606142,  0.05223068,  0.00869565,  0.02608694,\n",
       "        0.0776444 ,  0.00869565,  0.00869565,  0.02607416,  0.07240482])"
      ]
     },
     "execution_count": 61,
     "metadata": {},
     "output_type": "execute_result"
    }
   ],
   "source": [
    "clf.weights_"
   ]
  },
  {
   "cell_type": "code",
   "execution_count": 62,
   "metadata": {},
   "outputs": [
    {
     "name": "stdout",
     "output_type": "stream",
     "text": [
      "Brand Buy Sell\n"
     ]
    }
   ],
   "source": [
    "cluster = -55\n",
    "print \"Brand Buy Sell\"\n",
    "for i in range(len(cluster_labels)):\n",
    "    if cluster_labels[i] == cluster:\n",
    "        print brands[i], df.Buying_Price.iloc[i], df.Proposed_Sell_Price.iloc[i]"
   ]
  },
  {
   "cell_type": "code",
   "execution_count": 64,
   "metadata": {},
   "outputs": [
    {
     "name": "stdout",
     "output_type": "stream",
     "text": [
      "Brand Buy Sell\n",
      "Samsung 1500 1450.0\n",
      "Huawei 1700 1500.0\n",
      "Azpen 2200 900.0\n",
      "BlackBerry 2500 2000.0\n",
      "Sony  2800 2500.0\n",
      "BlackBerry 3000 2500.0\n",
      "BlackBerry 3000 2500.0\n",
      "BlackBerry 3000 2000.0\n",
      "Sony  4000 3000.0\n"
     ]
    }
   ],
   "source": [
    "cluster = 15\n",
    "print \"Brand Buy Sell\"\n",
    "for i in range(len(cluster_labels)):\n",
    "    if cluster_labels[i] == cluster:\n",
    "        print brands[i], df.Buying_Price.iloc[i], df.Proposed_Sell_Price.iloc[i]"
   ]
  },
  {
   "cell_type": "code",
   "execution_count": 20,
   "metadata": {},
   "outputs": [
    {
     "data": {
      "text/plain": [
       "115"
      ]
     },
     "execution_count": 20,
     "metadata": {},
     "output_type": "execute_result"
    }
   ],
   "source": [
    "len(cluster_labels)"
   ]
  }
 ],
 "metadata": {
  "kernelspec": {
   "display_name": "Python 2",
   "language": "python",
   "name": "python2"
  },
  "language_info": {
   "codemirror_mode": {
    "name": "ipython",
    "version": 2
   },
   "file_extension": ".py",
   "mimetype": "text/x-python",
   "name": "python",
   "nbconvert_exporter": "python",
   "pygments_lexer": "ipython2",
   "version": "2.7.13"
  }
 },
 "nbformat": 4,
 "nbformat_minor": 2
}
