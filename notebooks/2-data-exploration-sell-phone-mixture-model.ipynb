{
 "cells": [
  {
   "cell_type": "markdown",
   "metadata": {},
   "source": [
    "## Unsupervised Learning Eploration with the Sell your Phone dataset \n",
    "\n",
    "*get it? CellPhone!!!!*\n",
    "\n",
    "By. Dr. Vukosi Marivate http://www.vima.co.za\n",
    "\n",
    "This notebook takes data from a crowdsourced phone datataset. You can see the original google form here http://bitly.com/phonepricedata\n",
    "\n",
    "Some preprocessing has been done in Google spreadsheets. Namely standardizing all the Brands of the phones. In this notebook I do not remove outliers. I do remove submissions without all of the information (you could resolve this with data imputation).\n",
    "\n",
    "**Acknowledgements:** Jessica Nemasisi - Jessica helped with collection of the data and some initial analysis as part of ther Honours Degree Work. "
   ]
  },
  {
   "cell_type": "code",
   "execution_count": 1,
   "metadata": {
    "collapsed": true
   },
   "outputs": [],
   "source": [
    "import pandas as pd"
   ]
  },
  {
   "cell_type": "code",
   "execution_count": 2,
   "metadata": {},
   "outputs": [
    {
     "name": "stdout",
     "output_type": "stream",
     "text": [
      "Populating the interactive namespace from numpy and matplotlib\n"
     ]
    }
   ],
   "source": [
    "%pylab inline"
   ]
  },
  {
   "cell_type": "code",
   "execution_count": 3,
   "metadata": {},
   "outputs": [
    {
     "data": {
      "text/plain": [
       "Index([u'Age', u'Buying_Price', u'Camera', u'Battery', u'Screen_Size',\n",
       "       u'Condition', u'Proposed_Sell_Price',\n",
       "       u'Internal Storage Size in Gigabytes (GB)', u'Brand_Alcatel onetouch',\n",
       "       u'Brand_Apple', u'Brand_Azpen', u'Brand_BlackBerry', u'Brand_HTC',\n",
       "       u'Brand_Hisense', u'Brand_Huawei', u'Brand_Infinix', u'Brand_LG',\n",
       "       u'Brand_Nokia', u'Brand_Samsung', u'Brand_Sony', u'Brand_Sony ',\n",
       "       u'Brand_Vodafone', u'Brand_Xiaomi', u'Brand_ZTE', u'Broken_Screen_No',\n",
       "       u'Broken_Screen_Yes'],\n",
       "      dtype='object')"
      ]
     },
     "execution_count": 3,
     "metadata": {},
     "output_type": "execute_result"
    }
   ],
   "source": [
    "df = pd.read_excel(\"../data/sell_your_phone.xlsx\")\n",
    "df = df.dropna()\n",
    "df = df.drop(['Timestamp'],axis=1)\n",
    "#One Hot Encoding\n",
    "cat_cols = [\"Brand\",\"Broken_Screen\"]\n",
    "df_continuous = pd.get_dummies(df,columns=cat_cols)\n",
    "df_continuous.columns"
   ]
  },
  {
   "cell_type": "code",
   "execution_count": 4,
   "metadata": {
    "collapsed": true
   },
   "outputs": [],
   "source": [
    "#Some default stuff for my plotting\n",
    "aspect_mult = 0.9\n",
    "figsize(aspect_mult*16,aspect_mult*9)\n",
    "linewidth = 3"
   ]
  },
  {
   "cell_type": "code",
   "execution_count": 5,
   "metadata": {},
   "outputs": [
    {
     "data": {
      "text/html": [
       "<div>\n",
       "<table border=\"1\" class=\"dataframe\">\n",
       "  <thead>\n",
       "    <tr style=\"text-align: right;\">\n",
       "      <th></th>\n",
       "      <th>Age</th>\n",
       "      <th>Buying_Price</th>\n",
       "      <th>Camera</th>\n",
       "      <th>Battery</th>\n",
       "      <th>Screen_Size</th>\n",
       "      <th>Condition</th>\n",
       "      <th>Proposed_Sell_Price</th>\n",
       "      <th>Internal Storage Size in Gigabytes (GB)</th>\n",
       "      <th>Brand_Alcatel onetouch</th>\n",
       "      <th>Brand_Apple</th>\n",
       "      <th>...</th>\n",
       "      <th>Brand_LG</th>\n",
       "      <th>Brand_Nokia</th>\n",
       "      <th>Brand_Samsung</th>\n",
       "      <th>Brand_Sony</th>\n",
       "      <th>Brand_Sony</th>\n",
       "      <th>Brand_Vodafone</th>\n",
       "      <th>Brand_Xiaomi</th>\n",
       "      <th>Brand_ZTE</th>\n",
       "      <th>Broken_Screen_No</th>\n",
       "      <th>Broken_Screen_Yes</th>\n",
       "    </tr>\n",
       "  </thead>\n",
       "  <tbody>\n",
       "    <tr>\n",
       "      <th>0</th>\n",
       "      <td>8</td>\n",
       "      <td>160</td>\n",
       "      <td>5.0</td>\n",
       "      <td>24</td>\n",
       "      <td>4.5</td>\n",
       "      <td>7</td>\n",
       "      <td>2000.0</td>\n",
       "      <td>8.0</td>\n",
       "      <td>0</td>\n",
       "      <td>0</td>\n",
       "      <td>...</td>\n",
       "      <td>0</td>\n",
       "      <td>0</td>\n",
       "      <td>1</td>\n",
       "      <td>0</td>\n",
       "      <td>0</td>\n",
       "      <td>0</td>\n",
       "      <td>0</td>\n",
       "      <td>0</td>\n",
       "      <td>1</td>\n",
       "      <td>0</td>\n",
       "    </tr>\n",
       "    <tr>\n",
       "      <th>1</th>\n",
       "      <td>19</td>\n",
       "      <td>207</td>\n",
       "      <td>4.0</td>\n",
       "      <td>12</td>\n",
       "      <td>3.5</td>\n",
       "      <td>8</td>\n",
       "      <td>3000.0</td>\n",
       "      <td>5.0</td>\n",
       "      <td>0</td>\n",
       "      <td>0</td>\n",
       "      <td>...</td>\n",
       "      <td>0</td>\n",
       "      <td>0</td>\n",
       "      <td>0</td>\n",
       "      <td>0</td>\n",
       "      <td>1</td>\n",
       "      <td>0</td>\n",
       "      <td>0</td>\n",
       "      <td>0</td>\n",
       "      <td>1</td>\n",
       "      <td>0</td>\n",
       "    </tr>\n",
       "    <tr>\n",
       "      <th>2</th>\n",
       "      <td>9</td>\n",
       "      <td>250</td>\n",
       "      <td>2.0</td>\n",
       "      <td>4</td>\n",
       "      <td>3.5</td>\n",
       "      <td>5</td>\n",
       "      <td>200.0</td>\n",
       "      <td>2.0</td>\n",
       "      <td>0</td>\n",
       "      <td>0</td>\n",
       "      <td>...</td>\n",
       "      <td>0</td>\n",
       "      <td>0</td>\n",
       "      <td>1</td>\n",
       "      <td>0</td>\n",
       "      <td>0</td>\n",
       "      <td>0</td>\n",
       "      <td>0</td>\n",
       "      <td>0</td>\n",
       "      <td>1</td>\n",
       "      <td>0</td>\n",
       "    </tr>\n",
       "    <tr>\n",
       "      <th>3</th>\n",
       "      <td>19</td>\n",
       "      <td>650</td>\n",
       "      <td>2.0</td>\n",
       "      <td>14</td>\n",
       "      <td>3.5</td>\n",
       "      <td>9</td>\n",
       "      <td>400.0</td>\n",
       "      <td>1.0</td>\n",
       "      <td>0</td>\n",
       "      <td>0</td>\n",
       "      <td>...</td>\n",
       "      <td>0</td>\n",
       "      <td>1</td>\n",
       "      <td>0</td>\n",
       "      <td>0</td>\n",
       "      <td>0</td>\n",
       "      <td>0</td>\n",
       "      <td>0</td>\n",
       "      <td>0</td>\n",
       "      <td>1</td>\n",
       "      <td>0</td>\n",
       "    </tr>\n",
       "    <tr>\n",
       "      <th>4</th>\n",
       "      <td>13</td>\n",
       "      <td>699</td>\n",
       "      <td>2.0</td>\n",
       "      <td>10</td>\n",
       "      <td>3.2</td>\n",
       "      <td>7</td>\n",
       "      <td>450.0</td>\n",
       "      <td>4.0</td>\n",
       "      <td>0</td>\n",
       "      <td>0</td>\n",
       "      <td>...</td>\n",
       "      <td>0</td>\n",
       "      <td>0</td>\n",
       "      <td>0</td>\n",
       "      <td>0</td>\n",
       "      <td>0</td>\n",
       "      <td>1</td>\n",
       "      <td>0</td>\n",
       "      <td>0</td>\n",
       "      <td>1</td>\n",
       "      <td>0</td>\n",
       "    </tr>\n",
       "  </tbody>\n",
       "</table>\n",
       "<p>5 rows × 26 columns</p>\n",
       "</div>"
      ],
      "text/plain": [
       "   Age  Buying_Price  Camera  Battery  Screen_Size  Condition  \\\n",
       "0    8           160     5.0       24          4.5          7   \n",
       "1   19           207     4.0       12          3.5          8   \n",
       "2    9           250     2.0        4          3.5          5   \n",
       "3   19           650     2.0       14          3.5          9   \n",
       "4   13           699     2.0       10          3.2          7   \n",
       "\n",
       "   Proposed_Sell_Price  Internal Storage Size in Gigabytes (GB)  \\\n",
       "0               2000.0                                      8.0   \n",
       "1               3000.0                                      5.0   \n",
       "2                200.0                                      2.0   \n",
       "3                400.0                                      1.0   \n",
       "4                450.0                                      4.0   \n",
       "\n",
       "   Brand_Alcatel onetouch  Brand_Apple        ...          Brand_LG  \\\n",
       "0                       0            0        ...                 0   \n",
       "1                       0            0        ...                 0   \n",
       "2                       0            0        ...                 0   \n",
       "3                       0            0        ...                 0   \n",
       "4                       0            0        ...                 0   \n",
       "\n",
       "   Brand_Nokia  Brand_Samsung  Brand_Sony  Brand_Sony   Brand_Vodafone  \\\n",
       "0            0              1           0            0               0   \n",
       "1            0              0           0            1               0   \n",
       "2            0              1           0            0               0   \n",
       "3            1              0           0            0               0   \n",
       "4            0              0           0            0               1   \n",
       "\n",
       "   Brand_Xiaomi  Brand_ZTE  Broken_Screen_No  Broken_Screen_Yes  \n",
       "0             0          0                 1                  0  \n",
       "1             0          0                 1                  0  \n",
       "2             0          0                 1                  0  \n",
       "3             0          0                 1                  0  \n",
       "4             0          0                 1                  0  \n",
       "\n",
       "[5 rows x 26 columns]"
      ]
     },
     "execution_count": 5,
     "metadata": {},
     "output_type": "execute_result"
    }
   ],
   "source": [
    "df_continuous.head()"
   ]
  },
  {
   "cell_type": "markdown",
   "metadata": {},
   "source": [
    "## Mixture Models"
   ]
  },
  {
   "cell_type": "code",
   "execution_count": 6,
   "metadata": {
    "collapsed": true
   },
   "outputs": [],
   "source": [
    "from sklearn import mixture\n",
    "from sklearn.manifold import TSNE"
   ]
  },
  {
   "cell_type": "code",
   "execution_count": 7,
   "metadata": {
    "collapsed": true
   },
   "outputs": [],
   "source": [
    "X = df_continuous.values\n",
    "reps = 3"
   ]
  },
  {
   "cell_type": "code",
   "execution_count": 8,
   "metadata": {
    "collapsed": true
   },
   "outputs": [],
   "source": [
    "tsne = TSNE(n_components=2)\n",
    "X_tsne = tsne.fit_transform(X)"
   ]
  },
  {
   "cell_type": "code",
   "execution_count": 9,
   "metadata": {},
   "outputs": [
    {
     "name": "stderr",
     "output_type": "stream",
     "text": [
      "/Users/vima/anaconda/lib/python2.7/site-packages/sklearn/mixture/base.py:237: ConvergenceWarning: Initialization 1 did not converged. Try different init parameters, or increase max_iter, tol or check for degenerate data.\n",
      "  % (init + 1), ConvergenceWarning)\n"
     ]
    }
   ],
   "source": [
    "log_likelihood = []\n",
    "x_range = range(2,30)\n",
    "for k in x_range:\n",
    "    temp_wc = []\n",
    "    for i in range(reps):\n",
    "        clf = mixture.GaussianMixture(n_components=k, covariance_type='diag')\n",
    "        clf.fit(X)\n",
    "        temp_wc.append(clf.lower_bound_)\n",
    "    log_likelihood.append(temp_wc)\n",
    "log_likelihood= np.array(log_likelihood)"
   ]
  },
  {
   "cell_type": "code",
   "execution_count": 10,
   "metadata": {},
   "outputs": [
    {
     "data": {
      "image/png": "[encoded data removed]",
      "text/plain": [
       "<matplotlib.figure.Figure at 0x11375c250>"
      ]
     },
     "metadata": {},
     "output_type": "display_data"
    }
   ],
   "source": [
    "pyplot.errorbar(x_range,np.mean(log_likelihood,axis=1),\n",
    "                yerr = np.std(log_likelihood,axis=1), linewidth=linewidth)\n",
    "plt.ylabel(\"Max Log Likelihood\")\n",
    "plt.xlabel(\"$k$\")\n",
    "plt.grid()"
   ]
  },
  {
   "cell_type": "code",
   "execution_count": 16,
   "metadata": {},
   "outputs": [
    {
     "data": {
      "text/plain": [
       "GaussianMixture(covariance_type='diag', init_params='kmeans', max_iter=100,\n",
       "        means_init=None, n_components=20, n_init=1, precisions_init=None,\n",
       "        random_state=None, reg_covar=1e-06, tol=0.001, verbose=0,\n",
       "        verbose_interval=10, warm_start=False, weights_init=None)"
      ]
     },
     "execution_count": 16,
     "metadata": {},
     "output_type": "execute_result"
    }
   ],
   "source": [
    "k=20\n",
    "clf = mixture.GaussianMixture(n_components=k, covariance_type='diag')\n",
    "clf.fit(X)"
   ]
  },
  {
   "cell_type": "code",
   "execution_count": 17,
   "metadata": {
    "collapsed": true
   },
   "outputs": [],
   "source": [
    "cluster_labels = clf.predict(X)"
   ]
  },
  {
   "cell_type": "code",
   "execution_count": 18,
   "metadata": {},
   "outputs": [
    {
     "data": {
      "image/png": "[encoded data removed]",
      "text/plain": [
       "<matplotlib.figure.Figure at 0x115ad8350>"
      ]
     },
     "metadata": {},
     "output_type": "display_data"
    }
   ],
   "source": [
    "plt.scatter(X_tsne[:,0],X_tsne[:,1], c=cluster_labels,\n",
    "            s=30,label=cluster_labels)\n",
    "plt.title(\"K-Means Clustering $k$=\" + str(k)+ \" Scatter: Storage Size (GB) vs Original Buying Price\")\n",
    "plt.xlabel(\"Component 1\")\n",
    "plt.ylabel(\"Component 0\")\n",
    "plt.grid()"
   ]
  },
  {
   "cell_type": "code",
   "execution_count": 19,
   "metadata": {},
   "outputs": [
    {
     "name": "stdout",
     "output_type": "stream",
     "text": [
      "Brand Buy Sell\n",
      "Apple 1000 900.0\n",
      "Apple 2000 1000.0\n",
      "Apple 3000 2.5\n",
      "LG 3310 3000.0\n",
      "Apple 5000 4000.0\n",
      "Apple 6000 3000.0\n",
      "Apple 6000 4000.0\n",
      "Apple 6000 3000.0\n",
      "Apple 7000 3500.0\n",
      "HTC 8000 4500.0\n",
      "LG 8000 4000.0\n"
     ]
    }
   ],
   "source": [
    "cluster = 2\n",
    "print \"Brand Buy Sell\"\n",
    "for i in range(len(cluster_labels)):\n",
    "    if cluster_labels[i] == cluster:\n",
    "        print df.Brand.iloc[i], df.Buying_Price.iloc[i], df.Proposed_Sell_Price.iloc[i]"
   ]
  },
  {
   "cell_type": "code",
   "execution_count": 20,
   "metadata": {},
   "outputs": [
    {
     "data": {
      "text/plain": [
       "115"
      ]
     },
     "execution_count": 20,
     "metadata": {},
     "output_type": "execute_result"
    }
   ],
   "source": [
    "len(cluster_labels)"
   ]
  }
 ],
 "metadata": {
  "kernelspec": {
   "display_name": "Python 2",
   "language": "python",
   "name": "python2"
  },
  "language_info": {
   "codemirror_mode": {
    "name": "ipython",
    "version": 2
   },
   "file_extension": ".py",
   "mimetype": "text/x-python",
   "name": "python",
   "nbconvert_exporter": "python",
   "pygments_lexer": "ipython2",
   "version": "2.7.13"
  }
 },
 "nbformat": 4,
 "nbformat_minor": 2
}
