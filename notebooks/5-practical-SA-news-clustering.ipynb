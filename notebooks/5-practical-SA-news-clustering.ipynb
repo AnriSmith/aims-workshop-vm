{
 "cells": [
  {
   "cell_type": "markdown",
   "metadata": {},
   "source": [
    "## Practical: Unsupervised Learning Exploration with South African News\n",
    "\n",
    "By. Dr. Vukosi Marivate http://www.vima.co.za\n",
    "\n",
    "In this practical, you will take in data from news articles from South African and group them to understand common themes or topics. This notebook will use some light Natural Language Processing (NLP) but your focus should be on using unsupervised learning to find latent patterns in news articles.\n",
    "\n",
    "**Acknowledgements:** Nyalleng Moorosi - Nyalleng developed the crawlers that collect news articles for a project for the Data Science group at CSIR Modelling and Digital Science. You can keep track of some our public repos here http://www.github.com/csirmds/"
   ]
  },
  {
   "cell_type": "code",
   "execution_count": 6,
   "metadata": {
    "collapsed": true
   },
   "outputs": [],
   "source": [
    "import pandas as pd\n",
    "\n",
    "# Some stuff for NLP\n",
    "from sklearn.feature_extraction.text import TfidfVectorizer, CountVectorizer"
   ]
  },
  {
   "cell_type": "code",
   "execution_count": 2,
   "metadata": {},
   "outputs": [
    {
     "name": "stdout",
     "output_type": "stream",
     "text": [
      "Populating the interactive namespace from numpy and matplotlib\n"
     ]
    }
   ],
   "source": [
    "%pylab inline "
   ]
  },
  {
   "cell_type": "code",
   "execution_count": 3,
   "metadata": {
    "collapsed": true
   },
   "outputs": [],
   "source": [
    "df = pd.read_json(\"../data/sa_news_sample.json\")"
   ]
  },
  {
   "cell_type": "code",
   "execution_count": 9,
   "metadata": {},
   "outputs": [
    {
     "data": {
      "text/html": [
       "<div>\n",
       "<table border=\"1\" class=\"dataframe\">\n",
       "  <thead>\n",
       "    <tr style=\"text-align: right;\">\n",
       "      <th></th>\n",
       "      <th>article</th>\n",
       "      <th>published</th>\n",
       "      <th>title</th>\n",
       "      <th>url</th>\n",
       "      <th>article-cleaned</th>\n",
       "    </tr>\n",
       "  </thead>\n",
       "  <tbody>\n",
       "    <tr>\n",
       "      <th>count</th>\n",
       "      <td>3426</td>\n",
       "      <td>3426</td>\n",
       "      <td>3426</td>\n",
       "      <td>3426</td>\n",
       "      <td>3426</td>\n",
       "    </tr>\n",
       "    <tr>\n",
       "      <th>unique</th>\n",
       "      <td>3418</td>\n",
       "      <td>2749</td>\n",
       "      <td>3422</td>\n",
       "      <td>3426</td>\n",
       "      <td>3418</td>\n",
       "    </tr>\n",
       "    <tr>\n",
       "      <th>top</th>\n",
       "      <td>. .</td>\n",
       "      <td>2017-03-17T00:00:00</td>\n",
       "      <td>State budget short-changes victims of domestic...</td>\n",
       "      <td>http://www.news24.com/SouthAfrica/News/ntlemez...</td>\n",
       "      <td>. .</td>\n",
       "    </tr>\n",
       "    <tr>\n",
       "      <th>freq</th>\n",
       "      <td>7</td>\n",
       "      <td>30</td>\n",
       "      <td>2</td>\n",
       "      <td>1</td>\n",
       "      <td>7</td>\n",
       "    </tr>\n",
       "  </tbody>\n",
       "</table>\n",
       "</div>"
      ],
      "text/plain": [
       "       article            published  \\\n",
       "count     3426                 3426   \n",
       "unique    3418                 2749   \n",
       "top        . .  2017-03-17T00:00:00   \n",
       "freq         7                   30   \n",
       "\n",
       "                                                    title  \\\n",
       "count                                                3426   \n",
       "unique                                               3422   \n",
       "top     State budget short-changes victims of domestic...   \n",
       "freq                                                    2   \n",
       "\n",
       "                                                      url article-cleaned  \n",
       "count                                                3426            3426  \n",
       "unique                                               3426            3418  \n",
       "top     http://www.news24.com/SouthAfrica/News/ntlemez...             . .  \n",
       "freq                                                    1               7  "
      ]
     },
     "execution_count": 9,
     "metadata": {},
     "output_type": "execute_result"
    }
   ],
   "source": [
    "df.describe()"
   ]
  },
  {
   "cell_type": "code",
   "execution_count": 4,
   "metadata": {},
   "outputs": [
    {
     "data": {
      "text/html": [
       "<div>\n",
       "<table border=\"1\" class=\"dataframe\">\n",
       "  <thead>\n",
       "    <tr style=\"text-align: right;\">\n",
       "      <th></th>\n",
       "      <th>article</th>\n",
       "      <th>published</th>\n",
       "      <th>title</th>\n",
       "      <th>url</th>\n",
       "    </tr>\n",
       "  </thead>\n",
       "  <tbody>\n",
       "    <tr>\n",
       "      <th>0</th>\n",
       "      <td>I am not generous with my use of the term geno...</td>\n",
       "      <td>2017-02-07T00:00:00</td>\n",
       "      <td>Fatalism greets warning that Burundi is gearin...</td>\n",
       "      <td>http://mg.co.za/article/2017-02-07-00-fatalism...</td>\n",
       "    </tr>\n",
       "    <tr>\n",
       "      <th>1</th>\n",
       "      <td>The philosophical community of South Africa wa...</td>\n",
       "      <td>2017-02-07T00:00:00</td>\n",
       "      <td>Who has authority to talk about identity?</td>\n",
       "      <td>http://mg.co.za/article/2017-02-07-00-who-has-...</td>\n",
       "    </tr>\n",
       "    <tr>\n",
       "      <th>10</th>\n",
       "      <td>Johannesburg - Acting police commissioner Lieu...</td>\n",
       "      <td>2017-02-06T18:46:53</td>\n",
       "      <td>News24.com | Phahlane seeks to interdict O'Sul...</td>\n",
       "      <td>http://www.news24.com/SouthAfrica/News/phahlan...</td>\n",
       "    </tr>\n",
       "    <tr>\n",
       "      <th>100</th>\n",
       "      <td>Bloemfontein - If you come to varsity tomorrow...</td>\n",
       "      <td>2017-02-21T22:34:10</td>\n",
       "      <td>News24.com | Fear at UFS after 'blood will flo...</td>\n",
       "      <td>http://www.news24.com/SouthAfrica/News/fear-at...</td>\n",
       "    </tr>\n",
       "    <tr>\n",
       "      <th>1000</th>\n",
       "      <td>Johannesburg  The EFF in Ekurhuleni claimed th...</td>\n",
       "      <td>2017-03-18T11:31:54</td>\n",
       "      <td>News24.com | WATCH: EFF and ANC councillors cl...</td>\n",
       "      <td>http://www.news24.com/SouthAfrica/News/watch-e...</td>\n",
       "    </tr>\n",
       "  </tbody>\n",
       "</table>\n",
       "</div>"
      ],
      "text/plain": [
       "                                                article            published  \\\n",
       "0     I am not generous with my use of the term geno...  2017-02-07T00:00:00   \n",
       "1     The philosophical community of South Africa wa...  2017-02-07T00:00:00   \n",
       "10    Johannesburg - Acting police commissioner Lieu...  2017-02-06T18:46:53   \n",
       "100   Bloemfontein - If you come to varsity tomorrow...  2017-02-21T22:34:10   \n",
       "1000  Johannesburg  The EFF in Ekurhuleni claimed th...  2017-03-18T11:31:54   \n",
       "\n",
       "                                                  title  \\\n",
       "0     Fatalism greets warning that Burundi is gearin...   \n",
       "1             Who has authority to talk about identity?   \n",
       "10    News24.com | Phahlane seeks to interdict O'Sul...   \n",
       "100   News24.com | Fear at UFS after 'blood will flo...   \n",
       "1000  News24.com | WATCH: EFF and ANC councillors cl...   \n",
       "\n",
       "                                                    url  \n",
       "0     http://mg.co.za/article/2017-02-07-00-fatalism...  \n",
       "1     http://mg.co.za/article/2017-02-07-00-who-has-...  \n",
       "10    http://www.news24.com/SouthAfrica/News/phahlan...  \n",
       "100   http://www.news24.com/SouthAfrica/News/fear-at...  \n",
       "1000  http://www.news24.com/SouthAfrica/News/watch-e...  "
      ]
     },
     "execution_count": 4,
     "metadata": {},
     "output_type": "execute_result"
    }
   ],
   "source": [
    "df.head()"
   ]
  },
  {
   "cell_type": "code",
   "execution_count": 13,
   "metadata": {
    "collapsed": true
   },
   "outputs": [],
   "source": [
    "df['article_cleaned'] = df.article.apply(lambda x: x.lower().strip())"
   ]
  },
  {
   "cell_type": "code",
   "execution_count": 14,
   "metadata": {},
   "outputs": [
    {
     "data": {
      "text/html": [
       "<div>\n",
       "<table border=\"1\" class=\"dataframe\">\n",
       "  <thead>\n",
       "    <tr style=\"text-align: right;\">\n",
       "      <th></th>\n",
       "      <th>article</th>\n",
       "      <th>published</th>\n",
       "      <th>title</th>\n",
       "      <th>url</th>\n",
       "      <th>article-cleaned</th>\n",
       "      <th>article_cleaned</th>\n",
       "    </tr>\n",
       "  </thead>\n",
       "  <tbody>\n",
       "    <tr>\n",
       "      <th>0</th>\n",
       "      <td>I am not generous with my use of the term geno...</td>\n",
       "      <td>2017-02-07T00:00:00</td>\n",
       "      <td>Fatalism greets warning that Burundi is gearin...</td>\n",
       "      <td>http://mg.co.za/article/2017-02-07-00-fatalism...</td>\n",
       "      <td>i am not generous with my use of the term geno...</td>\n",
       "      <td>i am not generous with my use of the term geno...</td>\n",
       "    </tr>\n",
       "    <tr>\n",
       "      <th>1</th>\n",
       "      <td>The philosophical community of South Africa wa...</td>\n",
       "      <td>2017-02-07T00:00:00</td>\n",
       "      <td>Who has authority to talk about identity?</td>\n",
       "      <td>http://mg.co.za/article/2017-02-07-00-who-has-...</td>\n",
       "      <td>the philosophical community of south africa wa...</td>\n",
       "      <td>the philosophical community of south africa wa...</td>\n",
       "    </tr>\n",
       "    <tr>\n",
       "      <th>10</th>\n",
       "      <td>Johannesburg - Acting police commissioner Lieu...</td>\n",
       "      <td>2017-02-06T18:46:53</td>\n",
       "      <td>News24.com | Phahlane seeks to interdict O'Sul...</td>\n",
       "      <td>http://www.news24.com/SouthAfrica/News/phahlan...</td>\n",
       "      <td>johannesburg - acting police commissioner lieu...</td>\n",
       "      <td>johannesburg - acting police commissioner lieu...</td>\n",
       "    </tr>\n",
       "    <tr>\n",
       "      <th>100</th>\n",
       "      <td>Bloemfontein - If you come to varsity tomorrow...</td>\n",
       "      <td>2017-02-21T22:34:10</td>\n",
       "      <td>News24.com | Fear at UFS after 'blood will flo...</td>\n",
       "      <td>http://www.news24.com/SouthAfrica/News/fear-at...</td>\n",
       "      <td>bloemfontein - if you come to varsity tomorrow...</td>\n",
       "      <td>bloemfontein - if you come to varsity tomorrow...</td>\n",
       "    </tr>\n",
       "    <tr>\n",
       "      <th>1000</th>\n",
       "      <td>Johannesburg  The EFF in Ekurhuleni claimed th...</td>\n",
       "      <td>2017-03-18T11:31:54</td>\n",
       "      <td>News24.com | WATCH: EFF and ANC councillors cl...</td>\n",
       "      <td>http://www.news24.com/SouthAfrica/News/watch-e...</td>\n",
       "      <td>johannesburg  the eff in ekurhuleni claimed th...</td>\n",
       "      <td>johannesburg  the eff in ekurhuleni claimed th...</td>\n",
       "    </tr>\n",
       "  </tbody>\n",
       "</table>\n",
       "</div>"
      ],
      "text/plain": [
       "                                                article            published  \\\n",
       "0     I am not generous with my use of the term geno...  2017-02-07T00:00:00   \n",
       "1     The philosophical community of South Africa wa...  2017-02-07T00:00:00   \n",
       "10    Johannesburg - Acting police commissioner Lieu...  2017-02-06T18:46:53   \n",
       "100   Bloemfontein - If you come to varsity tomorrow...  2017-02-21T22:34:10   \n",
       "1000  Johannesburg  The EFF in Ekurhuleni claimed th...  2017-03-18T11:31:54   \n",
       "\n",
       "                                                  title  \\\n",
       "0     Fatalism greets warning that Burundi is gearin...   \n",
       "1             Who has authority to talk about identity?   \n",
       "10    News24.com | Phahlane seeks to interdict O'Sul...   \n",
       "100   News24.com | Fear at UFS after 'blood will flo...   \n",
       "1000  News24.com | WATCH: EFF and ANC councillors cl...   \n",
       "\n",
       "                                                    url  \\\n",
       "0     http://mg.co.za/article/2017-02-07-00-fatalism...   \n",
       "1     http://mg.co.za/article/2017-02-07-00-who-has-...   \n",
       "10    http://www.news24.com/SouthAfrica/News/phahlan...   \n",
       "100   http://www.news24.com/SouthAfrica/News/fear-at...   \n",
       "1000  http://www.news24.com/SouthAfrica/News/watch-e...   \n",
       "\n",
       "                                        article-cleaned  \\\n",
       "0     i am not generous with my use of the term geno...   \n",
       "1     the philosophical community of south africa wa...   \n",
       "10    johannesburg - acting police commissioner lieu...   \n",
       "100   bloemfontein - if you come to varsity tomorrow...   \n",
       "1000  johannesburg  the eff in ekurhuleni claimed th...   \n",
       "\n",
       "                                        article_cleaned  \n",
       "0     i am not generous with my use of the term geno...  \n",
       "1     the philosophical community of south africa wa...  \n",
       "10    johannesburg - acting police commissioner lieu...  \n",
       "100   bloemfontein - if you come to varsity tomorrow...  \n",
       "1000  johannesburg  the eff in ekurhuleni claimed th...  "
      ]
     },
     "execution_count": 14,
     "metadata": {},
     "output_type": "execute_result"
    }
   ],
   "source": [
    "df.head()"
   ]
  },
  {
   "cell_type": "code",
   "execution_count": 12,
   "metadata": {
    "collapsed": true
   },
   "outputs": [],
   "source": [
    "vectoriser = CountVectorizer(stop_words='english')"
   ]
  },
  {
   "cell_type": "code",
   "execution_count": 15,
   "metadata": {},
   "outputs": [
    {
     "data": {
      "text/plain": [
       "CountVectorizer(analyzer=u'word', binary=False, decode_error=u'strict',\n",
       "        dtype=<type 'numpy.int64'>, encoding=u'utf-8', input=u'content',\n",
       "        lowercase=True, max_df=1.0, max_features=None, min_df=1,\n",
       "        ngram_range=(1, 1), preprocessor=None, stop_words='english',\n",
       "        strip_accents=None, token_pattern=u'(?u)\\\\b\\\\w\\\\w+\\\\b',\n",
       "        tokenizer=None, vocabulary=None)"
      ]
     },
     "execution_count": 15,
     "metadata": {},
     "output_type": "execute_result"
    }
   ],
   "source": [
    "vectoriser.fit(df.article_cleaned)"
   ]
  },
  {
   "cell_type": "code",
   "execution_count": 16,
   "metadata": {
    "collapsed": true
   },
   "outputs": [],
   "source": [
    "X = vectoriser.transform(df.article_cleaned)"
   ]
  },
  {
   "cell_type": "code",
   "execution_count": 21,
   "metadata": {},
   "outputs": [
    {
     "data": {
      "text/plain": [
       "<3426x44254 sparse matrix of type '<type 'numpy.int64'>'\n",
       "\twith 525116 stored elements in Compressed Sparse Row format>"
      ]
     },
     "execution_count": 21,
     "metadata": {},
     "output_type": "execute_result"
    }
   ],
   "source": [
    "X"
   ]
  },
  {
   "cell_type": "markdown",
   "metadata": {},
   "source": [
    "## k-Means Clustering\n",
    "\n",
    "### Find optimal K\n",
    "\n",
    "In this section investigate what the best value of $k$ should be. "
   ]
  },
  {
   "cell_type": "code",
   "execution_count": null,
   "metadata": {
    "collapsed": true
   },
   "outputs": [],
   "source": [
    "# fill code here"
   ]
  },
  {
   "cell_type": "markdown",
   "metadata": {
    "collapsed": true
   },
   "source": [
    "## Visualisation\n",
    "\n",
    "Use PCA to find the largest 2 principal components. Use the components to visualise your clusters"
   ]
  },
  {
   "cell_type": "code",
   "execution_count": 29,
   "metadata": {
    "collapsed": true
   },
   "outputs": [],
   "source": [
    "# fill code here"
   ]
  },
  {
   "cell_type": "markdown",
   "metadata": {},
   "source": [
    "### Calculate Error\n",
    "\n",
    "For this exercise we are lucky that we have "
   ]
  },
  {
   "cell_type": "code",
   "execution_count": 41,
   "metadata": {
    "collapsed": true
   },
   "outputs": [],
   "source": [
    "# fill code here"
   ]
  },
  {
   "cell_type": "markdown",
   "metadata": {
    "collapsed": true
   },
   "source": [
    "## Other Methods"
   ]
  },
  {
   "cell_type": "code",
   "execution_count": 19,
   "metadata": {
    "collapsed": true
   },
   "outputs": [],
   "source": [
    "tfidf_vectoriser = TfidfVectorizer(stop_words='english')\n",
    "tfidf_vectoriser.fit(df.article_cleaned)\n",
    "X_tfidf = tfidf_vectoriser.transform(df.article_cleaned)"
   ]
  },
  {
   "cell_type": "markdown",
   "metadata": {},
   "source": [
    "### Mixture Models"
   ]
  },
  {
   "cell_type": "code",
   "execution_count": 20,
   "metadata": {
    "collapsed": true
   },
   "outputs": [],
   "source": [
    "# fill code here"
   ]
  },
  {
   "cell_type": "code",
   "execution_count": null,
   "metadata": {
    "collapsed": true
   },
   "outputs": [],
   "source": []
  }
 ],
 "metadata": {
  "kernelspec": {
   "display_name": "Python 2",
   "language": "python",
   "name": "python2"
  },
  "language_info": {
   "codemirror_mode": {
    "name": "ipython",
    "version": 2
   },
   "file_extension": ".py",
   "mimetype": "text/x-python",
   "name": "python",
   "nbconvert_exporter": "python",
   "pygments_lexer": "ipython2",
   "version": "2.7.13"
  }
 },
 "nbformat": 4,
 "nbformat_minor": 2
}
