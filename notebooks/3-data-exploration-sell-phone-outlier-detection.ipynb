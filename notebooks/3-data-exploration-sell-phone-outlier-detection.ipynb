{
 "cells": [
  {
   "cell_type": "markdown",
   "metadata": {},
   "source": [
    "## Unsupervised Learning Eploration with the Sell your Phone dataset \n",
    "\n",
    "*get it? CellPhone!!!!*\n",
    "\n",
    "By. Dr. Vukosi Marivate http://www.vima.co.za\n",
    "\n",
    "This notebook takes data from a crowdsourced phone datataset. You can see the original google form here http://bitly.com/phonepricedata\n",
    "\n",
    "Some preprocessing has been done in Google spreadsheets. Namely standardizing all the Brands of the phones. In this notebook I do not remove outliers. I do remove submissions without all of the information (you could resolve this with data imputation).\n",
    "\n",
    "**Acknowledgements:** Jessica Nemasisi - Jessica helped with collection of the data and some initial analysis as part of ther Honours Degree Work. "
   ]
  },
  {
   "cell_type": "code",
   "execution_count": 1,
   "metadata": {
    "collapsed": true
   },
   "outputs": [],
   "source": [
    "import pandas as pd"
   ]
  },
  {
   "cell_type": "code",
   "execution_count": 2,
   "metadata": {},
   "outputs": [
    {
     "name": "stdout",
     "output_type": "stream",
     "text": [
      "Populating the interactive namespace from numpy and matplotlib\n"
     ]
    }
   ],
   "source": [
    "%pylab inline"
   ]
  },
  {
   "cell_type": "code",
   "execution_count": 3,
   "metadata": {
    "collapsed": true
   },
   "outputs": [],
   "source": [
    "df = pd.read_excel(\"../data/sell_your_phone.xlsx\")"
   ]
  },
  {
   "cell_type": "code",
   "execution_count": 7,
   "metadata": {},
   "outputs": [
    {
     "data": {
      "text/html": [
       "<div>\n",
       "<table border=\"1\" class=\"dataframe\">\n",
       "  <thead>\n",
       "    <tr style=\"text-align: right;\">\n",
       "      <th></th>\n",
       "      <th>Timestamp</th>\n",
       "      <th>Brand</th>\n",
       "      <th>Age</th>\n",
       "      <th>Buying_Price</th>\n",
       "      <th>Camera</th>\n",
       "      <th>Battery</th>\n",
       "      <th>Screen_Size</th>\n",
       "      <th>Condition</th>\n",
       "      <th>Proposed_Sell_Price</th>\n",
       "      <th>Broken_Screen</th>\n",
       "      <th>Internal Storage Size in Gigabytes (GB)</th>\n",
       "    </tr>\n",
       "  </thead>\n",
       "  <tbody>\n",
       "    <tr>\n",
       "      <th>0</th>\n",
       "      <td>2015-12-09 18:05:54.559</td>\n",
       "      <td>Samsung</td>\n",
       "      <td>8</td>\n",
       "      <td>160</td>\n",
       "      <td>5.0</td>\n",
       "      <td>24</td>\n",
       "      <td>4.5</td>\n",
       "      <td>7</td>\n",
       "      <td>2000.0</td>\n",
       "      <td>No</td>\n",
       "      <td>8.0</td>\n",
       "    </tr>\n",
       "    <tr>\n",
       "      <th>1</th>\n",
       "      <td>2016-02-10 22:20:49.958</td>\n",
       "      <td>Sony</td>\n",
       "      <td>19</td>\n",
       "      <td>207</td>\n",
       "      <td>4.0</td>\n",
       "      <td>12</td>\n",
       "      <td>3.5</td>\n",
       "      <td>8</td>\n",
       "      <td>3000.0</td>\n",
       "      <td>No</td>\n",
       "      <td>5.0</td>\n",
       "    </tr>\n",
       "    <tr>\n",
       "      <th>2</th>\n",
       "      <td>2015-12-03 18:33:11.153</td>\n",
       "      <td>Samsung</td>\n",
       "      <td>9</td>\n",
       "      <td>250</td>\n",
       "      <td>2.0</td>\n",
       "      <td>4</td>\n",
       "      <td>3.5</td>\n",
       "      <td>5</td>\n",
       "      <td>200.0</td>\n",
       "      <td>No</td>\n",
       "      <td>2.0</td>\n",
       "    </tr>\n",
       "    <tr>\n",
       "      <th>3</th>\n",
       "      <td>2016-02-09 13:32:25.140</td>\n",
       "      <td>Nokia</td>\n",
       "      <td>19</td>\n",
       "      <td>650</td>\n",
       "      <td>2.0</td>\n",
       "      <td>14</td>\n",
       "      <td>3.5</td>\n",
       "      <td>9</td>\n",
       "      <td>400.0</td>\n",
       "      <td>No</td>\n",
       "      <td>1.0</td>\n",
       "    </tr>\n",
       "    <tr>\n",
       "      <th>4</th>\n",
       "      <td>2015-11-03 15:56:41.481</td>\n",
       "      <td>Vodafone</td>\n",
       "      <td>13</td>\n",
       "      <td>699</td>\n",
       "      <td>2.0</td>\n",
       "      <td>10</td>\n",
       "      <td>3.2</td>\n",
       "      <td>7</td>\n",
       "      <td>450.0</td>\n",
       "      <td>No</td>\n",
       "      <td>4.0</td>\n",
       "    </tr>\n",
       "  </tbody>\n",
       "</table>\n",
       "</div>"
      ],
      "text/plain": [
       "                Timestamp     Brand  Age  Buying_Price  Camera  Battery  \\\n",
       "0 2015-12-09 18:05:54.559   Samsung    8           160     5.0       24   \n",
       "1 2016-02-10 22:20:49.958     Sony    19           207     4.0       12   \n",
       "2 2015-12-03 18:33:11.153   Samsung    9           250     2.0        4   \n",
       "3 2016-02-09 13:32:25.140     Nokia   19           650     2.0       14   \n",
       "4 2015-11-03 15:56:41.481  Vodafone   13           699     2.0       10   \n",
       "\n",
       "   Screen_Size  Condition  Proposed_Sell_Price Broken_Screen  \\\n",
       "0          4.5          7               2000.0            No   \n",
       "1          3.5          8               3000.0            No   \n",
       "2          3.5          5                200.0            No   \n",
       "3          3.5          9                400.0            No   \n",
       "4          3.2          7                450.0            No   \n",
       "\n",
       "   Internal Storage Size in Gigabytes (GB)  \n",
       "0                                      8.0  \n",
       "1                                      5.0  \n",
       "2                                      2.0  \n",
       "3                                      1.0  \n",
       "4                                      4.0  "
      ]
     },
     "execution_count": 7,
     "metadata": {},
     "output_type": "execute_result"
    }
   ],
   "source": [
    "df.head()"
   ]
  },
  {
   "cell_type": "code",
   "execution_count": 8,
   "metadata": {},
   "outputs": [
    {
     "data": {
      "text/html": [
       "<div>\n",
       "<table border=\"1\" class=\"dataframe\">\n",
       "  <thead>\n",
       "    <tr style=\"text-align: right;\">\n",
       "      <th></th>\n",
       "      <th>Age</th>\n",
       "      <th>Buying_Price</th>\n",
       "      <th>Camera</th>\n",
       "      <th>Battery</th>\n",
       "      <th>Screen_Size</th>\n",
       "      <th>Condition</th>\n",
       "      <th>Proposed_Sell_Price</th>\n",
       "      <th>Internal Storage Size in Gigabytes (GB)</th>\n",
       "    </tr>\n",
       "  </thead>\n",
       "  <tbody>\n",
       "    <tr>\n",
       "      <th>count</th>\n",
       "      <td>124.000000</td>\n",
       "      <td>124.000000</td>\n",
       "      <td>124.000000</td>\n",
       "      <td>124.000000</td>\n",
       "      <td>124.000000</td>\n",
       "      <td>124.000000</td>\n",
       "      <td>124.000000</td>\n",
       "      <td>115.000000</td>\n",
       "    </tr>\n",
       "    <tr>\n",
       "      <th>mean</th>\n",
       "      <td>14.451613</td>\n",
       "      <td>4186.798387</td>\n",
       "      <td>7.184758</td>\n",
       "      <td>14.459677</td>\n",
       "      <td>4.362903</td>\n",
       "      <td>7.274194</td>\n",
       "      <td>2606.205645</td>\n",
       "      <td>11.210861</td>\n",
       "    </tr>\n",
       "    <tr>\n",
       "      <th>std</th>\n",
       "      <td>10.873519</td>\n",
       "      <td>3291.121481</td>\n",
       "      <td>4.289032</td>\n",
       "      <td>12.471365</td>\n",
       "      <td>0.924769</td>\n",
       "      <td>2.249982</td>\n",
       "      <td>2160.235391</td>\n",
       "      <td>10.054174</td>\n",
       "    </tr>\n",
       "    <tr>\n",
       "      <th>min</th>\n",
       "      <td>0.000000</td>\n",
       "      <td>160.000000</td>\n",
       "      <td>0.310000</td>\n",
       "      <td>1.000000</td>\n",
       "      <td>2.400000</td>\n",
       "      <td>2.000000</td>\n",
       "      <td>2.500000</td>\n",
       "      <td>0.049000</td>\n",
       "    </tr>\n",
       "    <tr>\n",
       "      <th>25%</th>\n",
       "      <td>6.000000</td>\n",
       "      <td>1800.000000</td>\n",
       "      <td>5.000000</td>\n",
       "      <td>6.000000</td>\n",
       "      <td>3.700000</td>\n",
       "      <td>6.000000</td>\n",
       "      <td>1000.000000</td>\n",
       "      <td>4.000000</td>\n",
       "    </tr>\n",
       "    <tr>\n",
       "      <th>50%</th>\n",
       "      <td>12.000000</td>\n",
       "      <td>3000.000000</td>\n",
       "      <td>5.000000</td>\n",
       "      <td>12.000000</td>\n",
       "      <td>4.500000</td>\n",
       "      <td>8.000000</td>\n",
       "      <td>2000.000000</td>\n",
       "      <td>8.000000</td>\n",
       "    </tr>\n",
       "    <tr>\n",
       "      <th>75%</th>\n",
       "      <td>21.000000</td>\n",
       "      <td>6000.000000</td>\n",
       "      <td>8.500000</td>\n",
       "      <td>18.250000</td>\n",
       "      <td>4.700000</td>\n",
       "      <td>9.000000</td>\n",
       "      <td>3600.000000</td>\n",
       "      <td>16.000000</td>\n",
       "    </tr>\n",
       "    <tr>\n",
       "      <th>max</th>\n",
       "      <td>48.000000</td>\n",
       "      <td>15576.000000</td>\n",
       "      <td>20.000000</td>\n",
       "      <td>72.000000</td>\n",
       "      <td>10.000000</td>\n",
       "      <td>10.000000</td>\n",
       "      <td>10000.000000</td>\n",
       "      <td>64.000000</td>\n",
       "    </tr>\n",
       "  </tbody>\n",
       "</table>\n",
       "</div>"
      ],
      "text/plain": [
       "              Age  Buying_Price      Camera     Battery  Screen_Size  \\\n",
       "count  124.000000    124.000000  124.000000  124.000000   124.000000   \n",
       "mean    14.451613   4186.798387    7.184758   14.459677     4.362903   \n",
       "std     10.873519   3291.121481    4.289032   12.471365     0.924769   \n",
       "min      0.000000    160.000000    0.310000    1.000000     2.400000   \n",
       "25%      6.000000   1800.000000    5.000000    6.000000     3.700000   \n",
       "50%     12.000000   3000.000000    5.000000   12.000000     4.500000   \n",
       "75%     21.000000   6000.000000    8.500000   18.250000     4.700000   \n",
       "max     48.000000  15576.000000   20.000000   72.000000    10.000000   \n",
       "\n",
       "        Condition  Proposed_Sell_Price  \\\n",
       "count  124.000000           124.000000   \n",
       "mean     7.274194          2606.205645   \n",
       "std      2.249982          2160.235391   \n",
       "min      2.000000             2.500000   \n",
       "25%      6.000000          1000.000000   \n",
       "50%      8.000000          2000.000000   \n",
       "75%      9.000000          3600.000000   \n",
       "max     10.000000         10000.000000   \n",
       "\n",
       "       Internal Storage Size in Gigabytes (GB)  \n",
       "count                               115.000000  \n",
       "mean                                 11.210861  \n",
       "std                                  10.054174  \n",
       "min                                   0.049000  \n",
       "25%                                   4.000000  \n",
       "50%                                   8.000000  \n",
       "75%                                  16.000000  \n",
       "max                                  64.000000  "
      ]
     },
     "execution_count": 8,
     "metadata": {},
     "output_type": "execute_result"
    }
   ],
   "source": [
    "df.describe()"
   ]
  },
  {
   "cell_type": "markdown",
   "metadata": {},
   "source": [
    "Dropping any rows with missing values. This is extreme, you can do some imputation if needed."
   ]
  },
  {
   "cell_type": "code",
   "execution_count": 9,
   "metadata": {
    "collapsed": true
   },
   "outputs": [],
   "source": [
    "df = df.dropna()"
   ]
  },
  {
   "cell_type": "markdown",
   "metadata": {},
   "source": [
    "Lets get rid of that timestamp "
   ]
  },
  {
   "cell_type": "code",
   "execution_count": 10,
   "metadata": {
    "collapsed": true
   },
   "outputs": [],
   "source": [
    "df = df.drop(['Timestamp'],axis=1)"
   ]
  },
  {
   "cell_type": "code",
   "execution_count": 26,
   "metadata": {
    "collapsed": true
   },
   "outputs": [],
   "source": [
    "#Some default stuff for my plotting\n",
    "aspect_mult = 0.9\n",
    "figsize(aspect_mult*16,aspect_mult*9)\n",
    "linewidth = 3"
   ]
  },
  {
   "cell_type": "markdown",
   "metadata": {},
   "source": [
    "Currently the data is not really in a nice format for Machine learning methods. Most methods don't deal well with categorical data (like Brand and Broken Screen). Let's do some one-hot-encoding."
   ]
  },
  {
   "cell_type": "code",
   "execution_count": 15,
   "metadata": {},
   "outputs": [
    {
     "data": {
      "text/plain": [
       "Index([u'Age', u'Buying_Price', u'Camera', u'Battery', u'Screen_Size',\n",
       "       u'Condition', u'Proposed_Sell_Price',\n",
       "       u'Internal Storage Size in Gigabytes (GB)', u'Brand_Alcatel onetouch',\n",
       "       u'Brand_Apple', u'Brand_Azpen', u'Brand_BlackBerry', u'Brand_HTC',\n",
       "       u'Brand_Hisense', u'Brand_Huawei', u'Brand_Infinix', u'Brand_LG',\n",
       "       u'Brand_Nokia', u'Brand_Samsung', u'Brand_Sony', u'Brand_Sony ',\n",
       "       u'Brand_Vodafone', u'Brand_Xiaomi', u'Brand_ZTE', u'Broken_Screen_No',\n",
       "       u'Broken_Screen_Yes'],\n",
       "      dtype='object')"
      ]
     },
     "execution_count": 15,
     "metadata": {},
     "output_type": "execute_result"
    }
   ],
   "source": [
    "#One Hot Encoding\n",
    "cat_cols = [\"Brand\",\"Broken_Screen\"]\n",
    "df_continuous = pd.get_dummies(df,columns=cat_cols)\n",
    "df_continuous.columns"
   ]
  },
  {
   "cell_type": "code",
   "execution_count": 16,
   "metadata": {},
   "outputs": [
    {
     "data": {
      "text/html": [
       "<div>\n",
       "<table border=\"1\" class=\"dataframe\">\n",
       "  <thead>\n",
       "    <tr style=\"text-align: right;\">\n",
       "      <th></th>\n",
       "      <th>Age</th>\n",
       "      <th>Buying_Price</th>\n",
       "      <th>Camera</th>\n",
       "      <th>Battery</th>\n",
       "      <th>Screen_Size</th>\n",
       "      <th>Condition</th>\n",
       "      <th>Proposed_Sell_Price</th>\n",
       "      <th>Internal Storage Size in Gigabytes (GB)</th>\n",
       "      <th>Brand_Alcatel onetouch</th>\n",
       "      <th>Brand_Apple</th>\n",
       "      <th>...</th>\n",
       "      <th>Brand_LG</th>\n",
       "      <th>Brand_Nokia</th>\n",
       "      <th>Brand_Samsung</th>\n",
       "      <th>Brand_Sony</th>\n",
       "      <th>Brand_Sony</th>\n",
       "      <th>Brand_Vodafone</th>\n",
       "      <th>Brand_Xiaomi</th>\n",
       "      <th>Brand_ZTE</th>\n",
       "      <th>Broken_Screen_No</th>\n",
       "      <th>Broken_Screen_Yes</th>\n",
       "    </tr>\n",
       "  </thead>\n",
       "  <tbody>\n",
       "    <tr>\n",
       "      <th>0</th>\n",
       "      <td>8</td>\n",
       "      <td>160</td>\n",
       "      <td>5.0</td>\n",
       "      <td>24</td>\n",
       "      <td>4.5</td>\n",
       "      <td>7</td>\n",
       "      <td>2000.0</td>\n",
       "      <td>8.0</td>\n",
       "      <td>0</td>\n",
       "      <td>0</td>\n",
       "      <td>...</td>\n",
       "      <td>0</td>\n",
       "      <td>0</td>\n",
       "      <td>1</td>\n",
       "      <td>0</td>\n",
       "      <td>0</td>\n",
       "      <td>0</td>\n",
       "      <td>0</td>\n",
       "      <td>0</td>\n",
       "      <td>1</td>\n",
       "      <td>0</td>\n",
       "    </tr>\n",
       "    <tr>\n",
       "      <th>1</th>\n",
       "      <td>19</td>\n",
       "      <td>207</td>\n",
       "      <td>4.0</td>\n",
       "      <td>12</td>\n",
       "      <td>3.5</td>\n",
       "      <td>8</td>\n",
       "      <td>3000.0</td>\n",
       "      <td>5.0</td>\n",
       "      <td>0</td>\n",
       "      <td>0</td>\n",
       "      <td>...</td>\n",
       "      <td>0</td>\n",
       "      <td>0</td>\n",
       "      <td>0</td>\n",
       "      <td>0</td>\n",
       "      <td>1</td>\n",
       "      <td>0</td>\n",
       "      <td>0</td>\n",
       "      <td>0</td>\n",
       "      <td>1</td>\n",
       "      <td>0</td>\n",
       "    </tr>\n",
       "    <tr>\n",
       "      <th>2</th>\n",
       "      <td>9</td>\n",
       "      <td>250</td>\n",
       "      <td>2.0</td>\n",
       "      <td>4</td>\n",
       "      <td>3.5</td>\n",
       "      <td>5</td>\n",
       "      <td>200.0</td>\n",
       "      <td>2.0</td>\n",
       "      <td>0</td>\n",
       "      <td>0</td>\n",
       "      <td>...</td>\n",
       "      <td>0</td>\n",
       "      <td>0</td>\n",
       "      <td>1</td>\n",
       "      <td>0</td>\n",
       "      <td>0</td>\n",
       "      <td>0</td>\n",
       "      <td>0</td>\n",
       "      <td>0</td>\n",
       "      <td>1</td>\n",
       "      <td>0</td>\n",
       "    </tr>\n",
       "    <tr>\n",
       "      <th>3</th>\n",
       "      <td>19</td>\n",
       "      <td>650</td>\n",
       "      <td>2.0</td>\n",
       "      <td>14</td>\n",
       "      <td>3.5</td>\n",
       "      <td>9</td>\n",
       "      <td>400.0</td>\n",
       "      <td>1.0</td>\n",
       "      <td>0</td>\n",
       "      <td>0</td>\n",
       "      <td>...</td>\n",
       "      <td>0</td>\n",
       "      <td>1</td>\n",
       "      <td>0</td>\n",
       "      <td>0</td>\n",
       "      <td>0</td>\n",
       "      <td>0</td>\n",
       "      <td>0</td>\n",
       "      <td>0</td>\n",
       "      <td>1</td>\n",
       "      <td>0</td>\n",
       "    </tr>\n",
       "    <tr>\n",
       "      <th>4</th>\n",
       "      <td>13</td>\n",
       "      <td>699</td>\n",
       "      <td>2.0</td>\n",
       "      <td>10</td>\n",
       "      <td>3.2</td>\n",
       "      <td>7</td>\n",
       "      <td>450.0</td>\n",
       "      <td>4.0</td>\n",
       "      <td>0</td>\n",
       "      <td>0</td>\n",
       "      <td>...</td>\n",
       "      <td>0</td>\n",
       "      <td>0</td>\n",
       "      <td>0</td>\n",
       "      <td>0</td>\n",
       "      <td>0</td>\n",
       "      <td>1</td>\n",
       "      <td>0</td>\n",
       "      <td>0</td>\n",
       "      <td>1</td>\n",
       "      <td>0</td>\n",
       "    </tr>\n",
       "  </tbody>\n",
       "</table>\n",
       "<p>5 rows × 26 columns</p>\n",
       "</div>"
      ],
      "text/plain": [
       "   Age  Buying_Price  Camera  Battery  Screen_Size  Condition  \\\n",
       "0    8           160     5.0       24          4.5          7   \n",
       "1   19           207     4.0       12          3.5          8   \n",
       "2    9           250     2.0        4          3.5          5   \n",
       "3   19           650     2.0       14          3.5          9   \n",
       "4   13           699     2.0       10          3.2          7   \n",
       "\n",
       "   Proposed_Sell_Price  Internal Storage Size in Gigabytes (GB)  \\\n",
       "0               2000.0                                      8.0   \n",
       "1               3000.0                                      5.0   \n",
       "2                200.0                                      2.0   \n",
       "3                400.0                                      1.0   \n",
       "4                450.0                                      4.0   \n",
       "\n",
       "   Brand_Alcatel onetouch  Brand_Apple        ...          Brand_LG  \\\n",
       "0                       0            0        ...                 0   \n",
       "1                       0            0        ...                 0   \n",
       "2                       0            0        ...                 0   \n",
       "3                       0            0        ...                 0   \n",
       "4                       0            0        ...                 0   \n",
       "\n",
       "   Brand_Nokia  Brand_Samsung  Brand_Sony  Brand_Sony   Brand_Vodafone  \\\n",
       "0            0              1           0            0               0   \n",
       "1            0              0           0            1               0   \n",
       "2            0              1           0            0               0   \n",
       "3            1              0           0            0               0   \n",
       "4            0              0           0            0               1   \n",
       "\n",
       "   Brand_Xiaomi  Brand_ZTE  Broken_Screen_No  Broken_Screen_Yes  \n",
       "0             0          0                 1                  0  \n",
       "1             0          0                 1                  0  \n",
       "2             0          0                 1                  0  \n",
       "3             0          0                 1                  0  \n",
       "4             0          0                 1                  0  \n",
       "\n",
       "[5 rows x 26 columns]"
      ]
     },
     "execution_count": 16,
     "metadata": {},
     "output_type": "execute_result"
    }
   ],
   "source": [
    "df_continuous.head()"
   ]
  },
  {
   "cell_type": "code",
   "execution_count": 20,
   "metadata": {},
   "outputs": [
    {
     "data": {
      "image/png": "[encoded data removed]",
      "text/plain": [
       "<matplotlib.figure.Figure at 0x1191346d0>"
      ]
     },
     "metadata": {},
     "output_type": "display_data"
    }
   ],
   "source": [
    "plt.scatter(df_continuous['Internal Storage Size in Gigabytes (GB)'], \n",
    "            df_continuous.Buying_Price, \n",
    "            s = 200)\n",
    "#Add some context to the plot\n",
    "plt.title(\"Scatter: Storage Size (GB) vs Original Buying Price\")\n",
    "plt.xlabel(\"Storage Size (GB)\")\n",
    "plt.ylabel(\"Original Buying Price\")\n",
    "plt.grid()"
   ]
  },
  {
   "cell_type": "markdown",
   "metadata": {},
   "source": [
    "## Clustering"
   ]
  },
  {
   "cell_type": "code",
   "execution_count": 21,
   "metadata": {
    "collapsed": true
   },
   "outputs": [],
   "source": [
    "from sklearn.cluster import KMeans"
   ]
  },
  {
   "cell_type": "code",
   "execution_count": 38,
   "metadata": {
    "collapsed": true
   },
   "outputs": [],
   "source": [
    "X = df_continuous.values\n",
    "reps = 3"
   ]
  },
  {
   "cell_type": "code",
   "execution_count": 42,
   "metadata": {
    "collapsed": true
   },
   "outputs": [],
   "source": [
    "within_cluster = []\n",
    "x_range = range(2,31)\n",
    "for k in x_range:\n",
    "    temp_wc = []\n",
    "    for i in range(reps):\n",
    "        clf = KMeans(n_clusters=k,n_jobs=-1)\n",
    "        clf.fit(X)\n",
    "        temp_wc.append(clf.inertia_)\n",
    "    within_cluster.append(temp_wc)\n",
    "within_cluster = np.array(within_cluster)"
   ]
  },
  {
   "cell_type": "code",
   "execution_count": 43,
   "metadata": {},
   "outputs": [
    {
     "data": {
      "image/png": "[encoded data removed]",
      "text/plain": [
       "<matplotlib.figure.Figure at 0x11baf9dd0>"
      ]
     },
     "metadata": {},
     "output_type": "display_data"
    }
   ],
   "source": [
    "pyplot.errorbar(x_range,np.mean(within_cluster,axis=1),\n",
    "                yerr = np.std(within_cluster,axis=1), linewidth=linewidth)\n",
    "plt.ylabel(\"Within cluster sume of squares\")\n",
    "plt.xlabel(\"$k$\")\n",
    "plt.grid()"
   ]
  },
  {
   "cell_type": "code",
   "execution_count": 47,
   "metadata": {
    "collapsed": true
   },
   "outputs": [],
   "source": [
    "k = 10"
   ]
  },
  {
   "cell_type": "code",
   "execution_count": 48,
   "metadata": {
    "collapsed": true
   },
   "outputs": [],
   "source": [
    "clf = KMeans(n_clusters=k,n_jobs=-1)\n",
    "clf.fit(X)\n",
    "cluster_labels = clf.predict(X)"
   ]
  },
  {
   "cell_type": "code",
   "execution_count": 54,
   "metadata": {
    "collapsed": true
   },
   "outputs": [],
   "source": [
    "c= ['hsl('+str(h)+',50%'+',50%)' for h in np.linspace(0, 360, k)]\n",
    "cluster_colors = []"
   ]
  },
  {
   "cell_type": "code",
   "execution_count": 56,
   "metadata": {},
   "outputs": [
    {
     "data": {
      "image/png": "[encoded data removed]",
      "text/plain": [
       "<matplotlib.figure.Figure at 0x11bbfa3d0>"
      ]
     },
     "metadata": {},
     "output_type": "display_data"
    }
   ],
   "source": [
    "plt.scatter(df_continuous['Internal Storage Size in Gigabytes (GB)'],\n",
    "            df_continuous.Buying_Price, c=cluster_labels,\n",
    "            s=30,label=cluster_labels)\n",
    "plt.title(\"Clustering Bag Words $k=20$\",fontsize=20)\n",
    "plt.title(\"K-Means Clustering $k$=\" + str(k)+ \" Scatter: Storage Size (GB) vs Original Buying Price\")\n",
    "plt.xlabel(\"Storage Size (GB)\")\n",
    "plt.ylabel(\"Original Buying Price\")\n",
    "plt.grid()\n"
   ]
  },
  {
   "cell_type": "code",
   "execution_count": 58,
   "metadata": {
    "collapsed": true
   },
   "outputs": [],
   "source": [
    "X_standardised = (df_continuous.values -np.mean(df_continuous.values))/np.std(df_continuous.values)"
   ]
  }
 ],
 "metadata": {
  "kernelspec": {
   "display_name": "Python 2",
   "language": "python",
   "name": "python2"
  },
  "language_info": {
   "codemirror_mode": {
    "name": "ipython",
    "version": 2
   },
   "file_extension": ".py",
   "mimetype": "text/x-python",
   "name": "python",
   "nbconvert_exporter": "python",
   "pygments_lexer": "ipython2",
   "version": "2.7.13"
  }
 },
 "nbformat": 4,
 "nbformat_minor": 2
}
